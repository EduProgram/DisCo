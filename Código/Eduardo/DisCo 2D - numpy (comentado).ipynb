{
 "cells": [
  {
   "cell_type": "code",
   "execution_count": 1,
   "metadata": {},
   "outputs": [],
   "source": [
    "import numpy as np"
   ]
  },
  {
   "cell_type": "code",
   "execution_count": 20,
   "metadata": {},
   "outputs": [],
   "source": [
    "def distance_corr(var_1, var_2, normedweight, power):\n",
    "    \n",
    "    xx = np.reshape(var_1, (-1, 1))\n",
    "    #print(xx)\n",
    "    #print(len(var_1))\n",
    "    #print(len(xx))\n",
    "    xx = np.tile(xx, (1, len(xx))) #Mudança\n",
    "    #print(xx)\n",
    "    #print(len(xx))\n",
    "    xx = np.reshape(xx, (len(xx), len(xx))) #Mudança\n",
    "    #print(xx)\n",
    "    yy = np.reshape(var_1, (1, -1)) #Adicionado\n",
    "    #print(yy.shape)\n",
    "    #print(yy)\n",
    "    #print(len(yy))\n",
    "    yy = np.tile(yy, (len(xx), 1)) #Mudança\n",
    "    #print(yy)\n",
    "    #print(len(var_1))\n",
    "    #print(len(xx))\n",
    "    #print(len(yy))\n",
    "    yy = np.reshape(yy, (len(yy), len(yy))) #Mudança\n",
    "    #print(yy)\n",
    "    amat = abs(xx-yy)\n",
    "    #print(amat)\n",
    "    \n",
    "    xx = np.reshape(var_2, (-1, 1))\n",
    "    #print(xx)\n",
    "    xx = np.tile(xx, (1, len(xx))) #Mudança\n",
    "    #print(xx)\n",
    "    xx = np.reshape(xx, (len(xx),len(xx))) #Mudança\n",
    "    #print(xx)\n",
    "    yy = np.reshape(var_2, (1, -1)) #Adicionado\n",
    "    yy = np.tile(yy, (len(xx), 1)) #Mudança\n",
    "    #print(yy)\n",
    "    yy = np.reshape(yy, (len(yy), len(yy))) #Mudança\n",
    "    #print(yy)\n",
    "    bmat = abs(xx-yy)\n",
    "    #print(bmat)\n",
    "\n",
    "    normedweight = np.reshape(normedweight, (1, -1)) #Adicionado\n",
    "    normedweight = np.tile(normedweight, (len(xx), 1)) #Adicionado\n",
    "    print(normedweight)\n",
    "    \n",
    "    #print(amat)\n",
    "    amatavg = np.mean(amat*normedweight, axis=1)\n",
    "    #print(amatavg)\n",
    "    amat1 = np.tile(amatavg, (len(xx), 1)) #Mudança\n",
    "    #print(amat1)\n",
    "    #print(len(var_1))\n",
    "    amat1 = np.reshape(amat1, (len(xx), len(xx))) #Mudança\n",
    "    #print(amat1)\n",
    "    amat2 = np.reshape(amatavg, (-1, 1))\n",
    "    #print(amat2)\n",
    "    amat2 = np.tile(amat2, (1, len(xx))) #Mudança\n",
    "    #print(amat2)\n",
    "    amat2 = np.reshape(amat2, (len(xx), len(xx))) #Mudança\n",
    "    #print(amat2)\n",
    "    amat3 = np.mean(amatavg*normedweight, axis=0)\n",
    "    amat3 = np.mean(amat3, axis=0) #Adicionado\n",
    "    #print(amat3)\n",
    "    Amat = amat - amat1 - amat2 + amat3\n",
    "    #print(Amat)\n",
    "    #print(amat)\n",
    "    #print(amat1)\n",
    "    #print(amat2)\n",
    "    #print(amat3)\n",
    "    #print(Amat)\n",
    "\n",
    "    #print(len(yy))\n",
    "    bmatavg = np.mean(bmat*normedweight, axis=1)\n",
    "    #print(bmatavg)\n",
    "    bmat1 = np.tile(bmatavg, (len(yy), 1)) #Mudança\n",
    "    bmat1 = np.reshape(bmat1, (len(yy), len(yy))) #Mudança\n",
    "    bmat2 = np.reshape(bmatavg, (-1, 1))\n",
    "    bmat2 = np.tile(bmat2, (1, len(yy))) #Mudança\n",
    "    bmat2 = np.reshape(bmat2, (len(yy),len(yy))) #Mudança\n",
    "    bmat3 = np.mean(bmatavg*normedweight, axis=0)\n",
    "    bmat3 = np.mean(bmat3, axis=0) #Adicionado\n",
    "    Bmat = bmat - bmat1 - bmat2 + bmat3\n",
    "    #print(Bmat)\n",
    "\n",
    "    ABavg = np.mean(Amat*Bmat*normedweight, axis=1)\n",
    "    AAavg = np.mean(Amat*Amat*normedweight, axis=1)\n",
    "    BBavg = np.mean(Bmat*Bmat*normedweight, axis=1)\n",
    "    #print(ABavg)\n",
    "    #print(AAavg)\n",
    "    #print(BBavg)\n",
    "\n",
    "    if(power==1):\n",
    "        dCorr=(np.mean(ABavg*normedweight))/np.sqrt((np.mean(AAavg*normedweight)*np.mean(BBavg*normedweight)))\n",
    "    elif(power==2):\n",
    "        dCorr=(np.mean(ABavg*normedweight))**2/(np.mean(AAavg*normedweight)*np.mean(BBavg*normedweight))\n",
    "    else:\n",
    "        dCorr=((np.mean(ABavg*normedweight))/np.sqrt((np.mean(AAavg*normedweight)*np.mean(BBavg*normedweight))))**power\n",
    "    \n",
    "    return dCorr"
   ]
  },
  {
   "cell_type": "code",
   "execution_count": 21,
   "metadata": {},
   "outputs": [
    {
     "name": "stdout",
     "output_type": "stream",
     "text": [
      "[[1 1 1 1 1 1 1 1 1 1]\n",
      " [1 1 1 1 1 1 1 1 1 1]\n",
      " [1 1 1 1 1 1 1 1 1 1]\n",
      " [1 1 1 1 1 1 1 1 1 1]\n",
      " [1 1 1 1 1 1 1 1 1 1]\n",
      " [1 1 1 1 1 1 1 1 1 1]\n",
      " [1 1 1 1 1 1 1 1 1 1]\n",
      " [1 1 1 1 1 1 1 1 1 1]\n",
      " [1 1 1 1 1 1 1 1 1 1]\n",
      " [1 1 1 1 1 1 1 1 1 1]]\n"
     ]
    },
    {
     "data": {
      "text/plain": [
       "0.5297522155905229"
      ]
     },
     "execution_count": 21,
     "metadata": {},
     "output_type": "execute_result"
    }
   ],
   "source": [
    "a = np.array([[1, 2, 3, 4, 5], [1, 2, 9, 4, 4]])\n",
    "b = np.array([[1, 2, 9, 4, 4], [1, 2, 3, 4, 5]])\n",
    "n = np.array([[1, 1, 1, 1, 1], [1, 1, 1, 1 ,1]])\n",
    "p = 1\n",
    "\n",
    "distance_corr(a, b, n, p)"
   ]
  },
  {
   "cell_type": "code",
   "execution_count": 18,
   "metadata": {},
   "outputs": [
    {
     "name": "stdout",
     "output_type": "stream",
     "text": [
      "[[0 1 6 3 4]\n",
      " [1 0 5 2 3]\n",
      " [6 5 0 3 2]\n",
      " [3 2 3 0 1]\n",
      " [4 3 2 1 0]]\n",
      "[[0 1 0 3 3]\n",
      " [1 0 1 2 2]\n",
      " [0 1 0 3 3]\n",
      " [3 2 3 0 0]\n",
      " [3 2 3 0 0]]\n",
      "5\n",
      "[1.4 1.2 1.4 1.6 1.6]\n",
      "[0.96  0.576 0.256 0.96  1.088]\n",
      "[4.352 2.432 5.312 0.512 1.472]\n",
      "[1.5744 0.3584 1.5744 2.1504 2.1504]\n"
     ]
    },
    {
     "data": {
      "text/plain": [
       "0.366235125179238"
      ]
     },
     "execution_count": 18,
     "metadata": {},
     "output_type": "execute_result"
    }
   ],
   "source": [
    "a = np.array([1, 2, 7, 4, 5])\n",
    "b = np.array([1, 2, 1, 4, 4])\n",
    "n = np.array([1, 1, 1, 1, 1])\n",
    "p = 1\n",
    "\n",
    "distance_corr(a, b, n, p)"
   ]
  },
  {
   "cell_type": "code",
   "execution_count": 12,
   "metadata": {},
   "outputs": [],
   "source": [
    "# Olhar novamente o 'print(Amat)', apesar dos resultados serem os mesmos no \"torch\", \n",
    "#   a forma como eles são mostrado é diferente, estão elevados a alguma potência e possuem muitos zeros\n",
    "\n",
    "# No 'np.mean', 'axis=0' é como se nada fosse definido, por isso nos 'if' ele não foi definido"
   ]
  },
  {
   "cell_type": "code",
   "execution_count": null,
   "metadata": {},
   "outputs": [],
   "source": []
  }
 ],
 "metadata": {
  "kernelspec": {
   "display_name": "Python 3",
   "language": "python",
   "name": "python3"
  },
  "language_info": {
   "codemirror_mode": {
    "name": "ipython",
    "version": 3
   },
   "file_extension": ".py",
   "mimetype": "text/x-python",
   "name": "python",
   "nbconvert_exporter": "python",
   "pygments_lexer": "ipython3",
   "version": "3.8.5"
  }
 },
 "nbformat": 4,
 "nbformat_minor": 4
}
