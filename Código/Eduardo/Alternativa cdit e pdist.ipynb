{
 "cells": [
  {
   "cell_type": "code",
   "execution_count": 1,
   "metadata": {},
   "outputs": [],
   "source": [
    "from scipy.spatial.distance import cdist, pdist, euclidean,pdist\n",
    "import numpy as np"
   ]
  },
  {
   "cell_type": "code",
   "execution_count": 2,
   "metadata": {},
   "outputs": [],
   "source": [
    "def alternativa_cdist(matrizA, matrizB):\n",
    "    L1,_ = matrizA.shape\n",
    "    L2,_ = matrizB.shape\n",
    "    \n",
    "    resultado = np.zeros((L1,L2))\n",
    "    \n",
    "    for i,a in enumerate(matrizA):\n",
    "        for j,b in enumerate(matrizB):\n",
    "            resultado[i,j] = euclidean(a,b)\n",
    "            \n",
    "    return resultado"
   ]
  },
  {
   "cell_type": "code",
   "execution_count": 3,
   "metadata": {},
   "outputs": [],
   "source": [
    "def alternativa_pdist(matrixA):\n",
    "    L, W = matrixA.shape\n",
    "    resultado = np.zeros((L**2+L-(L**2+3*L+2)//2)+1)\n",
    "    for i in range(L):\n",
    "        for j in range(i,L):\n",
    "            if i != j:\n",
    "                resultado[L * i + j - ((i + 2) * (i + 1)) // 2] = euclidean(matrixA[i], matrixA[j])\n",
    "    return resultado"
   ]
  },
  {
   "cell_type": "code",
   "execution_count": 4,
   "metadata": {},
   "outputs": [],
   "source": [
    "matrizA = np.array([[1,1],\n",
    "                [2,2],\n",
    "                [3,3],\n",
    "                [4,4],\n",
    "                [5,5]])\n",
    "\n",
    "matrizB = np.array([[1,1],\n",
    "                [3,3],\n",
    "               [5,5]])"
   ]
  },
  {
   "cell_type": "code",
   "execution_count": 5,
   "metadata": {},
   "outputs": [
    {
     "name": "stdout",
     "output_type": "stream",
     "text": [
      "------------------------ CDIST ----------------------- \n",
      "Resultado CDIST\n",
      "[[0.         2.82842712 5.65685425]\n",
      " [1.41421356 1.41421356 4.24264069]\n",
      " [2.82842712 0.         2.82842712]\n",
      " [4.24264069 1.41421356 1.41421356]\n",
      " [5.65685425 2.82842712 0.        ]]\n",
      "\n",
      "Resultado Atlernativa CDIST\n",
      "[[0.         2.82842712 5.65685425]\n",
      " [1.41421356 1.41421356 4.24264069]\n",
      " [2.82842712 0.         2.82842712]\n",
      " [4.24264069 1.41421356 1.41421356]\n",
      " [5.65685425 2.82842712 0.        ]]\n",
      "\n",
      "Comparacao\n",
      "[[0. 0. 0.]\n",
      " [0. 0. 0.]\n",
      " [0. 0. 0.]\n",
      " [0. 0. 0.]\n",
      " [0. 0. 0.]]\n",
      "0.0\n"
     ]
    }
   ],
   "source": [
    "resultado_cdist = cdist(matrizA, matrizB)\n",
    "\n",
    "resultado_cdist2 = alternativa_cdist(matrizA,matrizB)\n",
    "\n",
    "print('------------------------ CDIST ----------------------- ')\n",
    "print(\"Resultado CDIST\")\n",
    "print(resultado_cdist)\n",
    "\n",
    "print(\"\\nResultado Atlernativa CDIST\")\n",
    "print(resultado_cdist2)\n",
    "\n",
    "print(\"\\nComparacao\")\n",
    "print(resultado_cdist-resultado_cdist2)\n",
    "print(sum(sum(resultado_cdist-resultado_cdist2)))"
   ]
  },
  {
   "cell_type": "code",
   "execution_count": 6,
   "metadata": {},
   "outputs": [
    {
     "name": "stdout",
     "output_type": "stream",
     "text": [
      "\n",
      "\n",
      "\n",
      "------------------------ PDIST ----------------------- \n",
      "Resultado PDIST\n",
      "[1.41421356 2.82842712 4.24264069 5.65685425 1.41421356 2.82842712\n",
      " 4.24264069 1.41421356 2.82842712 1.41421356]\n",
      "\n",
      "Resultado Atlernativa PDIST\n",
      "[1.41421356 2.82842712 4.24264069 5.65685425 1.41421356 2.82842712\n",
      " 4.24264069 1.41421356 2.82842712 1.41421356]\n",
      "\n",
      "Comparacao\n",
      "[0. 0. 0. 0. 0. 0. 0. 0. 0. 0.]\n",
      "0.0\n"
     ]
    }
   ],
   "source": [
    "resultado_pdist = pdist(matrizA)\n",
    "\n",
    "resultado_pdist2 = alternativa_pdist(matrizA)\n",
    "\n",
    "print('\\n\\n\\n------------------------ PDIST ----------------------- ')\n",
    "print(\"Resultado PDIST\")\n",
    "print(resultado_pdist)\n",
    "\n",
    "print(\"\\nResultado Atlernativa PDIST\")\n",
    "print(resultado_pdist2)\n",
    "\n",
    "\n",
    "print(\"\\nComparacao\")\n",
    "print(resultado_pdist-resultado_pdist2)\n",
    "print(sum(resultado_pdist-resultado_pdist2))"
   ]
  },
  {
   "cell_type": "code",
   "execution_count": null,
   "metadata": {},
   "outputs": [],
   "source": []
  }
 ],
 "metadata": {
  "kernelspec": {
   "display_name": "Python 3",
   "language": "python",
   "name": "python3"
  },
  "language_info": {
   "codemirror_mode": {
    "name": "ipython",
    "version": 3
   },
   "file_extension": ".py",
   "mimetype": "text/x-python",
   "name": "python",
   "nbconvert_exporter": "python",
   "pygments_lexer": "ipython3",
   "version": "3.8.5"
  }
 },
 "nbformat": 4,
 "nbformat_minor": 4
}
