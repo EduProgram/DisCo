{
 "cells": [
  {
   "cell_type": "code",
   "execution_count": 1,
   "metadata": {},
   "outputs": [],
   "source": [
    "import numpy as np"
   ]
  },
  {
   "cell_type": "code",
   "execution_count": 13,
   "metadata": {},
   "outputs": [],
   "source": [
    "### Para realizar o dCor é preciso definir alguns termos, sendo eles\n",
    "\n",
    "# Distância euclidiana\n",
    "# \n",
    "\n"
   ]
  },
  {
   "cell_type": "code",
   "execution_count": 41,
   "metadata": {},
   "outputs": [
    {
     "ename": "SyntaxError",
     "evalue": "invalid syntax (<ipython-input-41-1b9807f19473>, line 27)",
     "output_type": "error",
     "traceback": [
      "\u001b[1;36m  File \u001b[1;32m\"<ipython-input-41-1b9807f19473>\"\u001b[1;36m, line \u001b[1;32m27\u001b[0m\n\u001b[1;33m    return xij\u001b[0m\n\u001b[1;37m    ^\u001b[0m\n\u001b[1;31mSyntaxError\u001b[0m\u001b[1;31m:\u001b[0m invalid syntax\n"
     ]
    }
   ],
   "source": [
    "# Função para a distância euclidiana\n",
    "\n",
    "# def dEuc(X):\n",
    "\n",
    "#     n = X.shape\n",
    "\n",
    "#     for i in range(n):\n",
    "#         for j in range(i,n):\n",
    "#             x[i,j] = np.sqrt(np.sum(np.square(X[i]-X[j])))\n",
    "                  \n",
    "#     return x\n",
    "            \n",
    "#     for j in range(n):\n",
    "#         xi0[0,j] = (1/n)*np.sum(x[0,j])\n",
    "        \n",
    "#     return xi0\n",
    "            \n",
    "#     for i in range(n):\n",
    "#         x0j[i,0] = (1/n)*np.sum(x[i,0])\n",
    "        \n",
    "#     return x0j\n",
    "            \n",
    "#     for i in range(n):\n",
    "#         for j in range(i,n):\n",
    "#             xij[i,j] = (1/(np.power(n,2))*np.sum(x[i,j])\n",
    "                        \n",
    "#     return xij"
   ]
  },
  {
   "cell_type": "code",
   "execution_count": 39,
   "metadata": {},
   "outputs": [],
   "source": [
    "# Função para a distância euclidiana\n",
    "\n",
    "def dEuc(X):\n",
    "\n",
    "    n = X.shape\n",
    "\n",
    "    for i in range(n):\n",
    "        for j in range(i,n):\n",
    "            x[i,j] = np.sqrt(np.sum(np.square(X[i]-X[j])))\n",
    "                        \n",
    "    return n"
   ]
  },
  {
   "cell_type": "code",
   "execution_count": 4,
   "metadata": {},
   "outputs": [],
   "source": [
    "X = np.array((1, 2, 3))\n",
    "Y = np.array((4, 5, 6))"
   ]
  },
  {
   "cell_type": "code",
   "execution_count": 12,
   "metadata": {},
   "outputs": [
    {
     "ename": "SyntaxError",
     "evalue": "invalid syntax (<ipython-input-12-5056c089f0e2>, line 1)",
     "output_type": "error",
     "traceback": [
      "\u001b[1;36m  File \u001b[1;32m\"<ipython-input-12-5056c089f0e2>\"\u001b[1;36m, line \u001b[1;32m1\u001b[0m\n\u001b[1;33m    a, ai., a.j, x.. =  dEuc(X)\u001b[0m\n\u001b[1;37m          ^\u001b[0m\n\u001b[1;31mSyntaxError\u001b[0m\u001b[1;31m:\u001b[0m invalid syntax\n"
     ]
    }
   ],
   "source": [
    "a, ai., a.j, x.. =  dEuc(X)\n",
    "b, bi., b.j, b.. =  dEuc(Y)"
   ]
  },
  {
   "cell_type": "code",
   "execution_count": 11,
   "metadata": {},
   "outputs": [
    {
     "name": "stdout",
     "output_type": "stream",
     "text": [
      "2.0\n",
      "4\n"
     ]
    }
   ],
   "source": [
    "a =2\n",
    "b =1\n",
    "\n",
    "c = a/b\n",
    "d = np.power(a,2)\n",
    "\n",
    "print(c)\n",
    "print(d)"
   ]
  },
  {
   "cell_type": "code",
   "execution_count": null,
   "metadata": {},
   "outputs": [],
   "source": []
  }
 ],
 "metadata": {
  "kernelspec": {
   "display_name": "Python 3",
   "language": "python",
   "name": "python3"
  },
  "language_info": {
   "codemirror_mode": {
    "name": "ipython",
    "version": 3
   },
   "file_extension": ".py",
   "mimetype": "text/x-python",
   "name": "python",
   "nbconvert_exporter": "python",
   "pygments_lexer": "ipython3",
   "version": "3.8.5"
  },
  "varInspector": {
   "cols": {
    "lenName": "30",
    "lenType": "30",
    "lenVar": 40
   },
   "kernels_config": {
    "python": {
     "delete_cmd_postfix": "",
     "delete_cmd_prefix": "del ",
     "library": "var_list.py",
     "varRefreshCmd": "print(var_dic_list())"
    },
    "r": {
     "delete_cmd_postfix": ") ",
     "delete_cmd_prefix": "rm(",
     "library": "var_list.r",
     "varRefreshCmd": "cat(var_dic_list()) "
    }
   },
   "types_to_exclude": [
    "module",
    "function",
    "builtin_function_or_method",
    "instance",
    "_Feature"
   ],
   "window_display": false
  }
 },
 "nbformat": 4,
 "nbformat_minor": 4
}
