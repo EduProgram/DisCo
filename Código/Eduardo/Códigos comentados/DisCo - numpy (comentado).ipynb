{
 "cells": [
  {
   "cell_type": "code",
   "execution_count": 1,
   "metadata": {},
   "outputs": [],
   "source": [
    "import numpy as np"
   ]
  },
  {
   "cell_type": "code",
   "execution_count": 2,
   "metadata": {},
   "outputs": [],
   "source": [
    "def distance_corr(var_1, var_2, normedweight, power):\n",
    "    \n",
    "    xx = np.reshape(var_1, (-1, 1))\n",
    "    #print(xx)\n",
    "    xx = np.tile(xx, (1, len(var_1)))\n",
    "    #print(xx)\n",
    "    xx = np.reshape(xx, (len(var_1), len(var_1)))\n",
    "    #print(xx)\n",
    "    yy = np.tile(var_1, (len(var_1), 1))\n",
    "    #print(yy)\n",
    "    yy = np.reshape(yy, (len(var_1), len(var_1)))\n",
    "    #print(yy)\n",
    "    amat = abs(xx-yy)\n",
    "    #print(amat)\n",
    "    \n",
    "    xx = np.reshape(var_2, (-1, 1))\n",
    "    #print(xx)\n",
    "    xx = np.tile(xx, (1, len(var_2)))\n",
    "    #print(xx)\n",
    "    xx = np.reshape(xx, (len(var_2),len(var_2)))\n",
    "    #print(xx)\n",
    "    yy = np.tile(var_2, (len(var_2), 1))\n",
    "    #print(yy)\n",
    "    yy = np.reshape(yy, (len(var_2), len(var_2)))\n",
    "    #print(yy)\n",
    "    bmat = abs(xx-yy)\n",
    "    #print(bmat)\n",
    "\n",
    "    #print(amat)\n",
    "    amatavg = np.mean(amat*normedweight, axis=1)\n",
    "    #print(amatavg)\n",
    "    amat1 = np.tile(amatavg, (len(var_1), 1))\n",
    "    #print(amat1)\n",
    "    #print(len(var_1))\n",
    "    amat1 = np.reshape(amat1, (len(var_1), len(var_1)))\n",
    "    #print(amat1)\n",
    "    amat2 = np.reshape(amatavg, (-1, 1))\n",
    "    #print(amat2)\n",
    "    amat2 = np.tile(amat2, (1, len(var_1)))\n",
    "    #print(amat2)\n",
    "    amat2 = np.reshape(amat2, (len(var_1), len(var_1)))\n",
    "    #print(amat2)\n",
    "    amat3 = np.mean(amatavg*normedweight, axis=0)\n",
    "    #print(amat3)\n",
    "    Amat = amat - amat1 - amat2 + amat3\n",
    "    #print(Amat)\n",
    "    #print(amat)\n",
    "    #print(amat1)\n",
    "    #print(amat2)\n",
    "    #print(amat3)\n",
    "    #print(Amat)\n",
    "\n",
    "    #print(len(yy))\n",
    "    bmatavg = np.mean(bmat*normedweight, axis=1)\n",
    "    #print(bmatavg)\n",
    "    bmat1 = np.tile(bmatavg, (len(var_2), 1))\n",
    "    bmat1 = np.reshape(bmat1, (len(var_2), len(var_2)))\n",
    "    bmat2 = np.reshape(bmatavg, (-1, 1))\n",
    "    bmat2 = np.tile(bmat2, (1, len(var_2)))\n",
    "    bmat2 = np.reshape(bmat2, (len(var_2),len(var_2)))\n",
    "    bmat3 = np.mean(bmatavg*normedweight, axis=0)\n",
    "    Bmat = bmat - bmat1 - bmat2 + bmat3\n",
    "    #print(Bmat)\n",
    "\n",
    "    ABavg = np.mean(Amat*Bmat*normedweight, axis=1)\n",
    "    AAavg = np.mean(Amat*Amat*normedweight, axis=1)\n",
    "    BBavg = np.mean(Bmat*Bmat*normedweight, axis=1)\n",
    "    #print(ABavg)\n",
    "    #print(AAavg)\n",
    "    #print(BBavg)\n",
    "\n",
    "    if(power==1):\n",
    "        dCorr=(np.mean(ABavg*normedweight))/np.sqrt((np.mean(AAavg*normedweight)*np.mean(BBavg*normedweight)))\n",
    "    elif(power==2):\n",
    "        dCorr=(np.mean(ABavg*normedweight))**2/(np.mean(AAavg*normedweight)*np.mean(BBavg*normedweight))\n",
    "    else:\n",
    "        dCorr=((np.mean(ABavg*normedweight))/np.sqrt((np.mean(AAavg*normedweight)*np.mean(BBavg*normedweight))))**power\n",
    "    \n",
    "    return dCorr"
   ]
  },
  {
   "cell_type": "code",
   "execution_count": 3,
   "metadata": {},
   "outputs": [
    {
     "data": {
      "text/plain": [
       "0.366235125179238"
      ]
     },
     "execution_count": 3,
     "metadata": {},
     "output_type": "execute_result"
    }
   ],
   "source": [
    "a = np.array([1, 2, 7, 4, 5])\n",
    "b = np.array([1, 2, 1, 4, 4])\n",
    "n = np.array([1, 1, 1, 1, 1])\n",
    "p = 1\n",
    "\n",
    "distance_corr(a, b, n, p)"
   ]
  },
  {
   "cell_type": "code",
   "execution_count": 5,
   "metadata": {},
   "outputs": [
    {
     "data": {
      "text/plain": [
       "0.5816750507471109"
      ]
     },
     "execution_count": 5,
     "metadata": {},
     "output_type": "execute_result"
    }
   ],
   "source": [
    "a = np.array([[1, 2, 3, 4, 5], [1, 2, 9, 4, 4]])\n",
    "b = np.array([[1, 2, 9, 4, 4], [1, 2, 3, 4, 5]])\n",
    "n = np.array([[1, 1, 1, 1, 1], [1, 1, 1, 1 ,1]])\n",
    "p = 1\n",
    "\n",
    "#distance_corr(a, b, n, p)\n",
    "distance_corr(a[0], b[0], n[0], p)"
   ]
  },
  {
   "cell_type": "code",
   "execution_count": 38,
   "metadata": {},
   "outputs": [],
   "source": [
    "# Olhar novamente o 'print(Amat)', apesar dos resultados serem os mesmos no \"torch\", \n",
    "#   a forma como eles são mostrado é diferente, estão elevados a alguma potência e possuem muitos zeros\n",
    "\n",
    "# No 'np.mean', 'axis=0' é como se nada fosse definido, por isso nos 'if' ele não foi definido"
   ]
  },
  {
   "cell_type": "code",
   "execution_count": 23,
   "metadata": {},
   "outputs": [
    {
     "ename": "TypeError",
     "evalue": "object of type 'int' has no len()",
     "output_type": "error",
     "traceback": [
      "\u001b[1;31m---------------------------------------------------------------------------\u001b[0m",
      "\u001b[1;31mTypeError\u001b[0m                                 Traceback (most recent call last)",
      "\u001b[1;32m<ipython-input-23-74c5efd43545>\u001b[0m in \u001b[0;36m<module>\u001b[1;34m\u001b[0m\n\u001b[0;32m      4\u001b[0m \u001b[0mp3\u001b[0m \u001b[1;33m=\u001b[0m \u001b[1;36m1\u001b[0m\u001b[1;33m\u001b[0m\u001b[1;33m\u001b[0m\u001b[0m\n\u001b[0;32m      5\u001b[0m \u001b[1;33m\u001b[0m\u001b[0m\n\u001b[1;32m----> 6\u001b[1;33m \u001b[0mdistance_corr\u001b[0m\u001b[1;33m(\u001b[0m\u001b[0ma3\u001b[0m\u001b[1;33m,\u001b[0m \u001b[0mb3\u001b[0m\u001b[1;33m,\u001b[0m \u001b[0mn3\u001b[0m\u001b[1;33m,\u001b[0m \u001b[0mp3\u001b[0m\u001b[1;33m)\u001b[0m\u001b[1;33m\u001b[0m\u001b[1;33m\u001b[0m\u001b[0m\n\u001b[0m",
      "\u001b[1;32m<ipython-input-20-bb8b87bafff2>\u001b[0m in \u001b[0;36mdistance_corr\u001b[1;34m(var_1, var_2, normedweight, power)\u001b[0m\n\u001b[0;32m      3\u001b[0m     \u001b[0mxx\u001b[0m \u001b[1;33m=\u001b[0m \u001b[0mnp\u001b[0m\u001b[1;33m.\u001b[0m\u001b[0mreshape\u001b[0m\u001b[1;33m(\u001b[0m\u001b[0mvar_1\u001b[0m\u001b[1;33m,\u001b[0m \u001b[1;33m(\u001b[0m\u001b[1;33m-\u001b[0m\u001b[1;36m1\u001b[0m\u001b[1;33m,\u001b[0m \u001b[1;36m1\u001b[0m\u001b[1;33m)\u001b[0m\u001b[1;33m)\u001b[0m\u001b[1;33m\u001b[0m\u001b[1;33m\u001b[0m\u001b[0m\n\u001b[0;32m      4\u001b[0m     \u001b[1;31m#print(xx)\u001b[0m\u001b[1;33m\u001b[0m\u001b[1;33m\u001b[0m\u001b[1;33m\u001b[0m\u001b[0m\n\u001b[1;32m----> 5\u001b[1;33m     \u001b[0mxx\u001b[0m \u001b[1;33m=\u001b[0m \u001b[0mnp\u001b[0m\u001b[1;33m.\u001b[0m\u001b[0mtile\u001b[0m\u001b[1;33m(\u001b[0m\u001b[0mxx\u001b[0m\u001b[1;33m,\u001b[0m \u001b[1;33m(\u001b[0m\u001b[1;36m1\u001b[0m\u001b[1;33m,\u001b[0m \u001b[0mlen\u001b[0m\u001b[1;33m(\u001b[0m\u001b[0mvar_1\u001b[0m\u001b[1;33m)\u001b[0m\u001b[1;33m)\u001b[0m\u001b[1;33m)\u001b[0m\u001b[1;33m\u001b[0m\u001b[1;33m\u001b[0m\u001b[0m\n\u001b[0m\u001b[0;32m      6\u001b[0m     \u001b[1;31m#print(xx)\u001b[0m\u001b[1;33m\u001b[0m\u001b[1;33m\u001b[0m\u001b[1;33m\u001b[0m\u001b[0m\n\u001b[0;32m      7\u001b[0m     \u001b[0mxx\u001b[0m \u001b[1;33m=\u001b[0m \u001b[0mnp\u001b[0m\u001b[1;33m.\u001b[0m\u001b[0mreshape\u001b[0m\u001b[1;33m(\u001b[0m\u001b[0mxx\u001b[0m\u001b[1;33m,\u001b[0m \u001b[1;33m(\u001b[0m\u001b[0mlen\u001b[0m\u001b[1;33m(\u001b[0m\u001b[0mvar_1\u001b[0m\u001b[1;33m)\u001b[0m\u001b[1;33m,\u001b[0m \u001b[0mlen\u001b[0m\u001b[1;33m(\u001b[0m\u001b[0mvar_1\u001b[0m\u001b[1;33m)\u001b[0m\u001b[1;33m)\u001b[0m\u001b[1;33m)\u001b[0m\u001b[1;33m\u001b[0m\u001b[1;33m\u001b[0m\u001b[0m\n",
      "\u001b[1;31mTypeError\u001b[0m: object of type 'int' has no len()"
     ]
    }
   ],
   "source": [
    "a3 = 1\n",
    "b3 = 4\n",
    "n3 = 1\n",
    "p3 = 1\n",
    "\n",
    "distance_corr(a3, b3, n3, p3)"
   ]
  },
  {
   "cell_type": "code",
   "execution_count": null,
   "metadata": {},
   "outputs": [],
   "source": []
  }
 ],
 "metadata": {
  "kernelspec": {
   "display_name": "Python 3",
   "language": "python",
   "name": "python3"
  },
  "language_info": {
   "codemirror_mode": {
    "name": "ipython",
    "version": 3
   },
   "file_extension": ".py",
   "mimetype": "text/x-python",
   "name": "python",
   "nbconvert_exporter": "python",
   "pygments_lexer": "ipython3",
   "version": "3.8.5"
  }
 },
 "nbformat": 4,
 "nbformat_minor": 4
}
