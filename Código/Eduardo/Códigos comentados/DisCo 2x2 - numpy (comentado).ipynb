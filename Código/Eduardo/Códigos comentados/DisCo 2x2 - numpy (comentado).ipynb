{
 "cells": [
  {
   "cell_type": "code",
   "execution_count": 1,
   "metadata": {},
   "outputs": [],
   "source": [
    "import numpy as np"
   ]
  },
  {
   "cell_type": "code",
   "execution_count": 78,
   "metadata": {},
   "outputs": [],
   "source": [
    "def distance_corr(var_1, var_2, normedweight, power):\n",
    "    \n",
    "    print('var_1')\n",
    "    xx = np.reshape(var_1, (-1, 1))\n",
    "    print(xx)\n",
    "    xx = np.tile(xx, (1, len(var_1)))\n",
    "    print(xx)\n",
    "#     xx = np.reshape(xx, (len(var_1), len(var_1)))\n",
    "#     print(xx)\n",
    "    yy = np.tile(var_1, (len(var_1), 1))\n",
    "    print(yy)\n",
    "#     yy = np.reshape(yy, (len(var_1), len(var_1)))\n",
    "#     print(yy)\n",
    "    amat = abs(xx-yy)\n",
    "    print(amat)\n",
    "    \n",
    "    print('var_2')\n",
    "    xx = np.reshape(var_2, (-1, 1))\n",
    "    print(xx)\n",
    "    xx = np.tile(xx, (1, len(var_2)))\n",
    "    print(xx)\n",
    "#     xx = np.reshape(xx, (len(var_2),len(var_2)))\n",
    "#     print(xx)\n",
    "    yy = np.tile(var_2, (len(var_2), 1))\n",
    "    print(yy)\n",
    "#     yy = np.reshape(yy, (len(var_2), len(var_2)))\n",
    "#     print(yy)\n",
    "    bmat = abs(xx-yy)\n",
    "    print(bmat)\n",
    "\n",
    "    print('Amat')\n",
    "    amatavg = np.mean(amat*normedweight, axis=1)\n",
    "    print(amatavg)\n",
    "    amat1 = np.tile(amatavg, (len(var_1), 1))\n",
    "    print(amat1)\n",
    "#     amat1 = np.reshape(amat1, (len(var_1), len(var_1)))\n",
    "#     print(amat1)\n",
    "    amat2 = np.reshape(amatavg, (-1, 1))\n",
    "    print(amat2)\n",
    "    amat2 = np.tile(amat2, (1, len(var_1)))\n",
    "    print(amat2)\n",
    "#     amat2 = np.reshape(amat2, (len(var_1), len(var_1)))\n",
    "#     print(amat2)\n",
    "    amat3 = np.mean(amatavg*normedweight, axis=0)\n",
    "    print(amat3)\n",
    "    Amat = amat - amat1 - amat2 + amat3\n",
    "    \n",
    "    #print(Amat)\n",
    "    #print(amat)\n",
    "    #print(amat1)\n",
    "    #print(amat2)\n",
    "    #print(amat3)\n",
    "    #print(Amat)\n",
    "\n",
    "    print('Bmat')\n",
    "    bmatavg = np.mean(bmat*normedweight, axis=1)\n",
    "    print(bmatavg)\n",
    "    bmat1 = np.tile(bmatavg, (len(var_2), 1))\n",
    "#     bmat1 = np.reshape(bmat1, (len(var_2), len(var_2)))\n",
    "    bmat2 = np.reshape(bmatavg, (-1, 1))\n",
    "    print(bmat2)\n",
    "    bmat2 = np.tile(bmat2, (1, len(var_2)))\n",
    "    print(bmat2)\n",
    "#     bmat2 = np.reshape(bmat2, (len(var_2),len(var_2)))\n",
    "    bmat3 = np.mean(bmatavg*normedweight, axis=0)\n",
    "    print(bmat3)\n",
    "    Bmat = bmat - bmat1 - bmat2 + bmat3\n",
    "    print(Bmat)\n",
    "\n",
    "    ABavg = np.mean(Amat*Bmat*normedweight, axis=1)\n",
    "    AAavg = np.mean(Amat*Amat*normedweight, axis=1)\n",
    "    BBavg = np.mean(Bmat*Bmat*normedweight, axis=1)\n",
    "    \n",
    "    print('ABavg')\n",
    "    print(ABavg)\n",
    "    print('AAavg')\n",
    "    print(AAavg)\n",
    "    print('BBavg')\n",
    "    print(BBavg)\n",
    "\n",
    "    if(power==1):\n",
    "        dCorr=(np.mean(ABavg*normedweight))/np.sqrt((np.mean(AAavg*normedweight)*np.mean(BBavg*normedweight)))\n",
    "    elif(power==2):\n",
    "        dCorr=(np.mean(ABavg*normedweight))**2/(np.mean(AAavg*normedweight)*np.mean(BBavg*normedweight))\n",
    "    else:\n",
    "        dCorr=((np.mean(ABavg*normedweight))/np.sqrt((np.mean(AAavg*normedweight)*np.mean(BBavg*normedweight))))**power\n",
    "    \n",
    "    return dCorr"
   ]
  },
  {
   "cell_type": "code",
   "execution_count": 79,
   "metadata": {},
   "outputs": [
    {
     "name": "stdout",
     "output_type": "stream",
     "text": [
      "var_1\n",
      "[[-0.09006195]\n",
      " [ 1.49      ]]\n",
      "[[-0.09006195 -0.09006195]\n",
      " [ 1.49        1.49      ]]\n",
      "[[-0.09006195  1.49      ]\n",
      " [-0.09006195  1.49      ]]\n",
      "[[0.         1.58006195]\n",
      " [1.58006195 0.        ]]\n",
      "var_2\n",
      "[[5.17880920e+01]\n",
      " [7.66878707e+08]]\n",
      "[[5.17880920e+01 5.17880920e+01]\n",
      " [7.66878707e+08 7.66878707e+08]]\n",
      "[[5.17880920e+01 7.66878707e+08]\n",
      " [5.17880920e+01 7.66878707e+08]]\n",
      "[[0.00000000e+00 7.66878655e+08]\n",
      " [7.66878655e+08 0.00000000e+00]]\n",
      "Amat\n",
      "[0.79003097 0.79003097]\n",
      "[[0.79003097 0.79003097]\n",
      " [0.79003097 0.79003097]]\n",
      "[[0.79003097]\n",
      " [0.79003097]]\n",
      "[[0.79003097 0.79003097]\n",
      " [0.79003097 0.79003097]]\n",
      "0.790030975\n",
      "Bmat\n",
      "[3.83439328e+08 3.83439328e+08]\n",
      "[[3.83439328e+08]\n",
      " [3.83439328e+08]]\n",
      "[[3.83439328e+08 3.83439328e+08]\n",
      " [3.83439328e+08 3.83439328e+08]]\n",
      "383439327.605954\n",
      "[[-3.83439328e+08  3.83439328e+08]\n",
      " [ 3.83439328e+08 -3.83439328e+08]]\n",
      "ABavg\n",
      "[3.02928946e+08 3.02928946e+08]\n",
      "AAavg\n",
      "[0.62414894 0.62414894]\n",
      "BBavg\n",
      "[1.47025718e+17 1.47025718e+17]\n"
     ]
    },
    {
     "data": {
      "text/plain": [
       "0.9999999999999998"
      ]
     },
     "execution_count": 79,
     "metadata": {},
     "output_type": "execute_result"
    }
   ],
   "source": [
    "a = np.array([-0.09006195,  1.490])\n",
    "b = np.array([51.788092, 766878707])\n",
    "n = np.array([1, 1])\n",
    "p = 2\n",
    "\n",
    "distance_corr(a, b, n, p)"
   ]
  },
  {
   "cell_type": "code",
   "execution_count": 58,
   "metadata": {},
   "outputs": [
    {
     "data": {
      "text/plain": [
       "0.366235125179238"
      ]
     },
     "execution_count": 58,
     "metadata": {},
     "output_type": "execute_result"
    }
   ],
   "source": [
    "a = np.array([1, 2, 7, 4, 5])\n",
    "b = np.array([1, 2, 1, 4, 4])\n",
    "n = np.array([1, 1, 1, 1, 1])\n",
    "p = 1\n",
    "\n",
    "distance_corr(a, b, n, p)"
   ]
  },
  {
   "cell_type": "code",
   "execution_count": 4,
   "metadata": {},
   "outputs": [
    {
     "data": {
      "text/plain": [
       "0.5816750507471109"
      ]
     },
     "execution_count": 4,
     "metadata": {},
     "output_type": "execute_result"
    }
   ],
   "source": [
    "a = np.array([[1, 2, 3, 4, 5], [1, 2, 9, 4, 4]])\n",
    "b = np.array([[1, 2, 9, 4, 4], [1, 2, 3, 4, 5]])\n",
    "n = np.array([[1, 1, 1, 1, 1], [1, 1, 1, 1 ,1]])\n",
    "p = 1\n",
    "\n",
    "#distance_corr(a, b, n, p)\n",
    "distance_corr(a[0], b[0], n[0], p)"
   ]
  },
  {
   "cell_type": "code",
   "execution_count": 10,
   "metadata": {},
   "outputs": [],
   "source": [
    "# Olhar novamente o 'print(Amat)', apesar dos resultados serem os mesmos no \"torch\", \n",
    "#   a forma como eles são mostrado é diferente, estão elevados a alguma potência e possuem muitos zeros\n",
    "\n",
    "# No 'np.mean', 'axis=0' é como se nada fosse definido, por isso nos 'if' ele não foi definido"
   ]
  },
  {
   "cell_type": "code",
   "execution_count": 48,
   "metadata": {},
   "outputs": [
    {
     "data": {
      "text/plain": [
       "1.0"
      ]
     },
     "execution_count": 48,
     "metadata": {},
     "output_type": "execute_result"
    }
   ],
   "source": [
    "a3 = np.array([7, 9])\n",
    "b3 = np.array([3, 4])\n",
    "n3 = np.array([1, 1])\n",
    "p3 = 1\n",
    "\n",
    "distance_corr(a3, b3, n3, p3)"
   ]
  },
  {
   "cell_type": "code",
   "execution_count": 47,
   "metadata": {},
   "outputs": [
    {
     "name": "stdout",
     "output_type": "stream",
     "text": [
      "1.0\n",
      "[1.0, 1.0, 1.0]\n"
     ]
    }
   ],
   "source": [
    "Uniquesample = np.array([[7, 9], [6, 8], [0, 9]])\n",
    "aux = np.array([[9, 8], [9, 8], [5, 9]])\n",
    "n = np.array([[1, 1], [1, 1], [1, 1]])\n",
    "p = 1\n",
    "uspi = []\n",
    "\n",
    "UN = 3\n",
    "#UN = Uniquesample.shape\n",
    "#print(UN)\n",
    "\n",
    "#print(Uniquesample[0])\n",
    "#print(aux[0])\n",
    "\n",
    "#print(b.shape)\n",
    "for i in range(UN):\n",
    "    aux2 = np.power(distance_corr(Uniquesample[i], aux[i], n[i], p),2)\n",
    "    uspi.append(aux2)\n",
    "    \n",
    "print(aux2)\n",
    "print(uspi)\n",
    "\n",
    "# aux2 = distance_corr(Uniquesample[0], aux[0], n[0], p)\n",
    "# print(aux2)\n",
    "\n",
    "    "
   ]
  },
  {
   "cell_type": "code",
   "execution_count": null,
   "metadata": {},
   "outputs": [],
   "source": []
  }
 ],
 "metadata": {
  "kernelspec": {
   "display_name": "Python 3",
   "language": "python",
   "name": "python3"
  },
  "language_info": {
   "codemirror_mode": {
    "name": "ipython",
    "version": 3
   },
   "file_extension": ".py",
   "mimetype": "text/x-python",
   "name": "python",
   "nbconvert_exporter": "python",
   "pygments_lexer": "ipython3",
   "version": "3.8.5"
  },
  "varInspector": {
   "cols": {
    "lenName": "30",
    "lenType": "30",
    "lenVar": 40
   },
   "kernels_config": {
    "python": {
     "delete_cmd_postfix": "",
     "delete_cmd_prefix": "del ",
     "library": "var_list.py",
     "varRefreshCmd": "print(var_dic_list())"
    },
    "r": {
     "delete_cmd_postfix": ") ",
     "delete_cmd_prefix": "rm(",
     "library": "var_list.r",
     "varRefreshCmd": "cat(var_dic_list()) "
    }
   },
   "position": {
    "height": "219.4px",
    "left": "405px",
    "right": "20px",
    "top": "104px",
    "width": "410px"
   },
   "types_to_exclude": [
    "module",
    "function",
    "builtin_function_or_method",
    "instance",
    "_Feature"
   ],
   "window_display": false
  }
 },
 "nbformat": 4,
 "nbformat_minor": 4
}
