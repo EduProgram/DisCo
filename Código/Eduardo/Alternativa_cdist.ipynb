{
 "cells": [
  {
   "cell_type": "code",
   "execution_count": 5,
   "metadata": {},
   "outputs": [],
   "source": [
    "from scipy.spatial.distance import cdist, euclidean,pdist\n",
    "import numpy as np"
   ]
  },
  {
   "cell_type": "code",
   "execution_count": 6,
   "metadata": {},
   "outputs": [],
   "source": [
    "def funcao(matrizA, matrizB):\n",
    "    L1,_ = matrizA.shape\n",
    "    L2,_ = matrizB.shape\n",
    "    \n",
    "    resultado = np.zeros((L1,L2))\n",
    "    \n",
    "    for i,a in enumerate(matrizA):\n",
    "        for j,b in enumerate(matrizB):\n",
    "            resultado[i,j] = euclidean(a,b)\n",
    "            \n",
    "    return resultado"
   ]
  },
  {
   "cell_type": "code",
   "execution_count": 7,
   "metadata": {},
   "outputs": [],
   "source": [
    "matrizA = np.array([[1,1],\n",
    "                [2,2]])\n",
    "\n",
    "matrizB = np.array([[1,1],\n",
    "                [3,3],\n",
    "               [5,5]])"
   ]
  },
  {
   "cell_type": "code",
   "execution_count": 8,
   "metadata": {},
   "outputs": [],
   "source": [
    "resultado_cdist = cdist(matrizA, matrizB)\n",
    "\n",
    "resultado_funcao = funcao(matrizA,matrizB)"
   ]
  },
  {
   "cell_type": "code",
   "execution_count": 9,
   "metadata": {},
   "outputs": [
    {
     "name": "stdout",
     "output_type": "stream",
     "text": [
      "Resultado CDIST\n",
      "[[0.         2.82842712 5.65685425]\n",
      " [1.41421356 1.41421356 4.24264069]]\n",
      "Resultado Funcao\n",
      "[[0.         2.82842712 5.65685425]\n",
      " [1.41421356 1.41421356 4.24264069]]\n"
     ]
    }
   ],
   "source": [
    "print(\"Resultado CDIST\")\n",
    "print(resultado_cdist)\n",
    "\n",
    "print(\"Resultado Funcao\")\n",
    "print(resultado_funcao)"
   ]
  },
  {
   "cell_type": "code",
   "execution_count": null,
   "metadata": {},
   "outputs": [],
   "source": []
  }
 ],
 "metadata": {
  "kernelspec": {
   "display_name": "Python 3",
   "language": "python",
   "name": "python3"
  },
  "language_info": {
   "codemirror_mode": {
    "name": "ipython",
    "version": 3
   },
   "file_extension": ".py",
   "mimetype": "text/x-python",
   "name": "python",
   "nbconvert_exporter": "python",
   "pygments_lexer": "ipython3",
   "version": "3.8.5"
  }
 },
 "nbformat": 4,
 "nbformat_minor": 4
}
