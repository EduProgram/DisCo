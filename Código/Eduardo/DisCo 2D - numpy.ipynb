{
 "cells": [
  {
   "cell_type": "code",
   "execution_count": 1,
   "metadata": {},
   "outputs": [],
   "source": [
    "import numpy as np"
   ]
  },
  {
   "cell_type": "code",
   "execution_count": 8,
   "metadata": {},
   "outputs": [],
   "source": [
    "def distance_corr(var_1, var_2, normedweight, power):\n",
    "    \n",
    "    xx = np.reshape(var_1, (-1, 1))\n",
    "    xx = np.tile(xx, (1, len(xx))) #Mudança\n",
    "    xx = np.reshape(xx, (len(xx), len(xx))) #Mudança\n",
    "    yy = np.reshape(var_1, (1, -1)) #Adicionado\n",
    "    yy = np.tile(yy, (len(xx), 1)) #Mudança\n",
    "    yy = np.reshape(yy, (len(yy), len(yy))) #Mudança\n",
    "    amat = abs(xx-yy)\n",
    "    \n",
    "    xx = np.reshape(var_2, (-1, 1))\n",
    "    xx = np.tile(xx, (1, len(xx))) #Mudança\n",
    "\n",
    "    xx = np.reshape(xx, (len(xx),len(xx))) #Mudança\n",
    "    yy = np.reshape(var_2, (1, -1)) #Adicionado\n",
    "    yy = np.tile(yy, (len(xx), 1)) #Mudança\n",
    "    yy = np.reshape(yy, (len(yy), len(yy))) #Mudança\n",
    "    bmat = abs(xx-yy)\n",
    "    \n",
    "    normedweight = np.reshape(normedweight, (1, -1)) #Adicionado\n",
    "    normedweight = np.tile(normedweight, (len(xx), 1)) #Adicionado\n",
    "    \n",
    "    amatavg = np.mean(amat*normedweight, axis=1)\n",
    "    amat1 = np.tile(amatavg, (len(xx), 1)) #Mudança\n",
    "    amat1 = np.reshape(amat1, (len(xx), len(xx))) #Mudança\n",
    "    amat2 = np.reshape(amatavg, (-1, 1))\n",
    "    amat2 = np.tile(amat2, (1, len(xx))) #Mudança\n",
    "    amat2 = np.reshape(amat2, (len(xx), len(xx))) #Mudança\n",
    "    amat3 = np.mean(amatavg*normedweight, axis=0)\n",
    "    amat3 = np.mean(amat3, axis=0) #Adicionado\n",
    "    Amat = amat - amat1 - amat2 + amat3\n",
    "\n",
    "    bmatavg = np.mean(bmat*normedweight, axis=1)\n",
    "    bmat1 = np.tile(bmatavg, (len(yy), 1)) #Mudança\n",
    "    bmat1 = np.reshape(bmat1, (len(yy), len(yy))) #Mudança\n",
    "    bmat2 = np.reshape(bmatavg, (-1, 1))\n",
    "    bmat2 = np.tile(bmat2, (1, len(yy))) #Mudança\n",
    "    bmat2 = np.reshape(bmat2, (len(yy),len(yy))) #Mudança\n",
    "    bmat3 = np.mean(bmatavg*normedweight, axis=0)\n",
    "    bmat3 = np.mean(bmat3, axis=0) #Adicionado\n",
    "    Bmat = bmat - bmat1 - bmat2 + bmat3\n",
    "\n",
    "    ABavg = np.mean(Amat*Bmat*normedweight, axis=1)\n",
    "    AAavg = np.mean(Amat*Amat*normedweight, axis=1)\n",
    "    BBavg = np.mean(Bmat*Bmat*normedweight, axis=1)\n",
    "\n",
    "    if(power==1):\n",
    "        dCorr=(np.mean(ABavg*normedweight))/np.sqrt((np.mean(AAavg*normedweight)*np.mean(BBavg*normedweight)))\n",
    "    elif(power==2):\n",
    "        dCorr=(np.mean(ABavg*normedweight))**2/(np.mean(AAavg*normedweight)*np.mean(BBavg*normedweight))\n",
    "    else:\n",
    "        dCorr=((np.mean(ABavg*normedweight))/np.sqrt((np.mean(AAavg*normedweight)*np.mean(BBavg*normedweight))))**power\n",
    "    \n",
    "    return dCorr"
   ]
  },
  {
   "cell_type": "code",
   "execution_count": 11,
   "metadata": {},
   "outputs": [
    {
     "data": {
      "text/plain": [
       "0.5297522155905229"
      ]
     },
     "execution_count": 11,
     "metadata": {},
     "output_type": "execute_result"
    }
   ],
   "source": [
    "a = np.array([[1, 2, 3, 4, 5], [1, 2, 9, 4, 4]])\n",
    "b = np.array([[1, 2, 9, 4, 4], [1, 2, 3, 4, 5]])\n",
    "n = np.array([[1, 1, 1, 1, 1], [1, 1, 1, 1 ,1]])\n",
    "p = 1\n",
    "\n",
    "distance_corr(a, b, n, p)"
   ]
  },
  {
   "cell_type": "code",
   "execution_count": 10,
   "metadata": {},
   "outputs": [
    {
     "data": {
      "text/plain": [
       "0.366235125179238"
      ]
     },
     "execution_count": 10,
     "metadata": {},
     "output_type": "execute_result"
    }
   ],
   "source": [
    "a = np.array([1, 2, 7, 4, 5])\n",
    "b = np.array([1, 2, 1, 4, 4])\n",
    "n = np.array([1, 1, 1, 1, 1])\n",
    "p = 1\n",
    "\n",
    "distance_corr(a, b, n, p)"
   ]
  },
  {
   "cell_type": "code",
   "execution_count": 12,
   "metadata": {},
   "outputs": [],
   "source": [
    "# Olhar novamente o 'print(Amat)', apesar dos resultados serem os mesmos no \"torch\", \n",
    "#   a forma como eles são mostrado é diferente, estão elevados a alguma potência e possuem muitos zeros\n",
    "\n",
    "# No 'np.mean', 'axis=0' é como se nada fosse definido, por isso nos 'if' ele não foi definido"
   ]
  },
  {
   "cell_type": "code",
   "execution_count": null,
   "metadata": {},
   "outputs": [],
   "source": []
  }
 ],
 "metadata": {
  "kernelspec": {
   "display_name": "Python 3",
   "language": "python",
   "name": "python3"
  },
  "language_info": {
   "codemirror_mode": {
    "name": "ipython",
    "version": 3
   },
   "file_extension": ".py",
   "mimetype": "text/x-python",
   "name": "python",
   "nbconvert_exporter": "python",
   "pygments_lexer": "ipython3",
   "version": "3.8.5"
  }
 },
 "nbformat": 4,
 "nbformat_minor": 4
}
