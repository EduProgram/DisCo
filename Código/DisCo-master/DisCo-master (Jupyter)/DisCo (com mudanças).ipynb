{
 "cells": [
  {
   "cell_type": "code",
   "execution_count": 1,
   "metadata": {},
   "outputs": [],
   "source": [
    "import numpy as np"
   ]
  },
  {
   "cell_type": "code",
   "execution_count": 4,
   "metadata": {},
   "outputs": [],
   "source": [
    "import torch\n",
    "\n",
    "def distance_corr(var_1,var_2,normedweight,power=1):\n",
    "    \"\"\"var_1: First variable to decorrelate (eg mass)\n",
    "    var_2: Second variable to decorrelate (eg classifier output)\n",
    "    normedweight: Per-example weight. Sum of weights should add up to N (where N is the number of examples)\n",
    "    power: Exponent used in calculating the distance correlation\n",
    "    \n",
    "    va1_1, var_2 and normedweight should all be 1D torch tensors with the same number of entries\n",
    "    \n",
    "    Usage: Add to your loss function. total_loss = BCE_loss + lambda * distance_corr\n",
    "    \"\"\"\n",
    "    \n",
    "    \n",
    "#     xx = var_1.view(-1, 1).repeat(1, len(var_1)).view(len(var_1),len(var_1))\n",
    "#     yy = var_1.repeat(len(var_1),1).view(len(var_1),len(var_1))\n",
    "#     amat = (xx-yy).abs()\n",
    "#     print(var_1.view(-1, 1))\n",
    "#     print(amat)\n",
    "#     print(len(var_1))\n",
    "\n",
    "    xx = var_1.view(-1, 1)\n",
    "    #print(xx)\n",
    "    xx = xx.repeat(1, len(var_1))\n",
    "    #print(xx)\n",
    "    xx = xx.view(len(var_1),len(var_1))\n",
    "    #print(xx)\n",
    "    yy = var_1.repeat(len(var_1),1)\n",
    "    #print(yy)\n",
    "    yy = yy.view(len(var_1),len(var_1))\n",
    "    #print(yy)\n",
    "    amat = (xx-yy).abs()\n",
    "    #print(amat)\n",
    "    \n",
    "\n",
    "    xx = var_2.view(-1, 1)\n",
    "    #print(xx)\n",
    "    xx = xx.repeat(1, len(var_2))\n",
    "    #print(xx)\n",
    "    xx = xx.view(len(var_2),len(var_2))\n",
    "    #print(xx)\n",
    "    yy = var_2.repeat(len(var_2),1)\n",
    "    #print(yy)\n",
    "    yy = yy.view(len(var_2),len(var_2))\n",
    "    #print(yy)\n",
    "    bmat = (xx-yy).abs()\n",
    "    #print(bmat)\n",
    "\n",
    "    #print(amat)\n",
    "    amatavg = torch.mean(amat*normedweight,dim=1)\n",
    "    #print(amatavg)\n",
    "    Amat=amat-amatavg.repeat(len(var_1),1).view(len(var_1),len(var_1))\\\n",
    "        -amatavg.view(-1, 1).repeat(1, len(var_1)).view(len(var_1),len(var_1))\\\n",
    "        +torch.mean(amatavg*normedweight)\n",
    "    #print(amatavg.repeat(len(var_1),1))\n",
    "    #print(amatavg.repeat(len(var_1),1).view(len(var_1),len(var_1)))\n",
    "    \n",
    "    #print(amatavg.view(-1, 1))\n",
    "    #print(amatavg.view(-1, 1).repeat(1, len(var_1)))\n",
    "    #print(amatavg.view(-1, 1).repeat(1, len(var_1)).view(len(var_1),len(var_1)))\n",
    "    \n",
    "    #print(torch.mean(amatavg*normedweight))\n",
    "    \n",
    "    #print(Amat)\n",
    "\n",
    "    bmatavg = torch.mean(bmat*normedweight,dim=1)\n",
    "    Bmat=bmat-bmatavg.repeat(len(var_2),1).view(len(var_2),len(var_2))\\\n",
    "        -bmatavg.view(-1, 1).repeat(1, len(var_2)).view(len(var_2),len(var_2))\\\n",
    "        +torch.mean(bmatavg*normedweight)\n",
    "\n",
    "    #print(Bmat)\n",
    "    \n",
    "    ABavg = torch.mean(Amat*Bmat*normedweight,dim=1)\n",
    "    AAavg = torch.mean(Amat*Amat*normedweight,dim=1)\n",
    "    BBavg = torch.mean(Bmat*Bmat*normedweight,dim=1)\n",
    "    #print(ABavg)\n",
    "    #print(AAavg)\n",
    "    #print(BBavg)\n",
    "\n",
    "    if(power==1):\n",
    "        dCorr=(torch.mean(ABavg*normedweight))/torch.sqrt((torch.mean(AAavg*normedweight)*torch.mean(BBavg*normedweight)))\n",
    "    elif(power==2):\n",
    "        dCorr=(torch.mean(ABavg*normedweight))**2/(torch.mean(AAavg*normedweight)*torch.mean(BBavg*normedweight))\n",
    "    else:\n",
    "        dCorr=((torch.mean(ABavg*normedweight))/torch.sqrt((torch.mean(AAavg*normedweight)*torch.mean(BBavg*normedweight))))**power\n",
    "   \n",
    "    return dCorr\n",
    "\n",
    "\n"
   ]
  },
  {
   "cell_type": "code",
   "execution_count": 5,
   "metadata": {},
   "outputs": [
    {
     "data": {
      "text/plain": [
       "tensor(0.3662)"
      ]
     },
     "execution_count": 5,
     "metadata": {},
     "output_type": "execute_result"
    }
   ],
   "source": [
    "# Modificações feitas por Eduardo\n",
    "\n",
    "a = torch.tensor([1.0, 2.0, 7.0, 4.0, 5.0])\n",
    "b = torch.tensor([1.0, 2.0, 1.0, 4.0, 4.0])\n",
    "n = torch.tensor([1.0, 1.0, 1.0, 1.0, 1.0])\n",
    "p = 1\n",
    "distance_corr(a, b, n, p)\n"
   ]
  },
  {
   "cell_type": "code",
   "execution_count": 8,
   "metadata": {},
   "outputs": [
    {
     "data": {
      "text/plain": [
       "tensor(0.0678)"
      ]
     },
     "execution_count": 8,
     "metadata": {},
     "output_type": "execute_result"
    }
   ],
   "source": [
    "a = torch.tensor([1.0, 3.0, 7.0, 4.0, 5.0])\n",
    "b = torch.tensor([1.0, 2.0, 2.0, 4.0, 1.0])\n",
    "n = torch.tensor([1.0, 1.0, 1.0, 1.0, 1.0])\n",
    "p = 2\n",
    "\n",
    "distance_corr(a, b, n, p)"
   ]
  },
  {
   "cell_type": "code",
   "execution_count": 40,
   "metadata": {},
   "outputs": [
    {
     "name": "stdout",
     "output_type": "stream",
     "text": [
      "tensor([[2.0000, 1.4000, 1.2000, 1.4000, 2.0000],\n",
      "        [2.0000, 1.4000, 1.2000, 1.4000, 2.0000],\n",
      "        [2.0000, 1.4000, 1.2000, 1.4000, 2.0000],\n",
      "        [2.0000, 1.4000, 1.2000, 1.4000, 2.0000],\n",
      "        [2.0000, 1.4000, 1.2000, 1.4000, 2.0000]])\n"
     ]
    },
    {
     "data": {
      "text/plain": [
       "True"
      ]
     },
     "execution_count": 40,
     "metadata": {},
     "output_type": "execute_result"
    }
   ],
   "source": [
    "torch.is_tensor(distance_corr(a, b, n, p))"
   ]
  },
  {
   "cell_type": "code",
   "execution_count": null,
   "metadata": {},
   "outputs": [],
   "source": []
  },
  {
   "cell_type": "code",
   "execution_count": null,
   "metadata": {},
   "outputs": [],
   "source": []
  }
 ],
 "metadata": {
  "kernelspec": {
   "display_name": "Python 3",
   "language": "python",
   "name": "python3"
  },
  "language_info": {
   "codemirror_mode": {
    "name": "ipython",
    "version": 3
   },
   "file_extension": ".py",
   "mimetype": "text/x-python",
   "name": "python",
   "nbconvert_exporter": "python",
   "pygments_lexer": "ipython3",
   "version": "3.8.5"
  },
  "varInspector": {
   "cols": {
    "lenName": "30",
    "lenType": "30",
    "lenVar": 40
   },
   "kernels_config": {
    "python": {
     "delete_cmd_postfix": "",
     "delete_cmd_prefix": "del ",
     "library": "var_list.py",
     "varRefreshCmd": "print(var_dic_list())"
    },
    "r": {
     "delete_cmd_postfix": ") ",
     "delete_cmd_prefix": "rm(",
     "library": "var_list.r",
     "varRefreshCmd": "cat(var_dic_list()) "
    }
   },
   "types_to_exclude": [
    "module",
    "function",
    "builtin_function_or_method",
    "instance",
    "_Feature"
   ],
   "window_display": false
  }
 },
 "nbformat": 4,
 "nbformat_minor": 4
}
