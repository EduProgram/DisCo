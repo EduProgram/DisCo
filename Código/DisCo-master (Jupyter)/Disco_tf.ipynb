{
 "cells": [
  {
   "cell_type": "code",
   "execution_count": 1,
   "metadata": {},
   "outputs": [
    {
     "ename": "ModuleNotFoundError",
     "evalue": "No module named 'tensorflow'",
     "output_type": "error",
     "traceback": [
      "\u001b[1;31m---------------------------------------------------------------------------\u001b[0m",
      "\u001b[1;31mModuleNotFoundError\u001b[0m                       Traceback (most recent call last)",
      "\u001b[1;32m<ipython-input-1-4367ac8f7181>\u001b[0m in \u001b[0;36m<module>\u001b[1;34m\u001b[0m\n\u001b[1;32m----> 1\u001b[1;33m \u001b[1;32mimport\u001b[0m \u001b[0mtensorflow\u001b[0m \u001b[1;32mas\u001b[0m \u001b[0mtf\u001b[0m\u001b[1;33m\u001b[0m\u001b[1;33m\u001b[0m\u001b[0m\n\u001b[0m\u001b[0;32m      2\u001b[0m \u001b[1;33m\u001b[0m\u001b[0m\n\u001b[0;32m      3\u001b[0m \u001b[1;32mdef\u001b[0m \u001b[0mdistance_corr\u001b[0m\u001b[1;33m(\u001b[0m\u001b[0mvar_1\u001b[0m\u001b[1;33m,\u001b[0m \u001b[0mvar_2\u001b[0m\u001b[1;33m,\u001b[0m \u001b[0mnormedweight\u001b[0m\u001b[1;33m,\u001b[0m \u001b[0mpower\u001b[0m\u001b[1;33m=\u001b[0m\u001b[1;36m1\u001b[0m\u001b[1;33m)\u001b[0m\u001b[1;33m:\u001b[0m\u001b[1;33m\u001b[0m\u001b[1;33m\u001b[0m\u001b[0m\n\u001b[0;32m      4\u001b[0m     \"\"\"var_1: First variable to decorrelate (eg mass)\n\u001b[0;32m      5\u001b[0m     \u001b[0mvar_2\u001b[0m\u001b[1;33m:\u001b[0m \u001b[0mSecond\u001b[0m \u001b[0mvariable\u001b[0m \u001b[0mto\u001b[0m \u001b[0mdecorrelate\u001b[0m \u001b[1;33m(\u001b[0m\u001b[0meg\u001b[0m \u001b[0mclassifier\u001b[0m \u001b[0moutput\u001b[0m\u001b[1;33m)\u001b[0m\u001b[1;33m\u001b[0m\u001b[1;33m\u001b[0m\u001b[0m\n",
      "\u001b[1;31mModuleNotFoundError\u001b[0m: No module named 'tensorflow'"
     ]
    }
   ],
   "source": [
    "import tensorflow as tf\n",
    "\n",
    "def distance_corr(var_1, var_2, normedweight, power=1):\n",
    "    \"\"\"var_1: First variable to decorrelate (eg mass)\n",
    "    var_2: Second variable to decorrelate (eg classifier output)\n",
    "    normedweight: Per-example weight. Sum of weights should add up to N (where N is the number of examples)\n",
    "    power: Exponent used in calculating the distance correlation\n",
    "    \n",
    "    va1_1, var_2 and normedweight should all be 1D tf tensors with the same number of entries\n",
    "    \n",
    "    Usage: Add to your loss function. total_loss = BCE_loss + lambda * distance_corr\n",
    "    \"\"\"\n",
    "\n",
    "    xx = tf.reshape(var_1, [-1, 1])\n",
    "    xx = tf.tile(xx, [1, tf.size(var_1)])\n",
    "    xx = tf.reshape(xx, [tf.size(var_1), tf.size(var_1)])\n",
    " \n",
    "    yy = tf.transpose(xx)\n",
    "    amat = tf.math.abs(xx-yy)\n",
    "    \n",
    "    xx = tf.reshape(var_2, [-1, 1])\n",
    "    xx = tf.tile(xx, [1, tf.size(var_2)])\n",
    "    xx = tf.reshape(xx, [tf.size(var_2), tf.size(var_2)])\n",
    "    \n",
    "    yy = tf.transpose(xx)\n",
    "    bmat = tf.math.abs(xx-yy)\n",
    "   \n",
    "    amatavg = tf.reduce_mean(amat*normedweight, axis=1)\n",
    "    bmatavg = tf.reduce_mean(bmat*normedweight, axis=1)\n",
    " \n",
    "    minuend_1 = tf.tile(amatavg, [tf.size(var_1)])\n",
    "    minuend_1 = tf.reshape(minuend_1, [tf.size(var_1), tf.size(var_1)])\n",
    "    minuend_2 = tf.transpose(minuend_1)\n",
    "    Amat = amat-minuend_1-minuend_2+tf.reduce_mean(amatavg*normedweight)\n",
    "\n",
    "    minuend_1 = tf.tile(bmatavg, [tf.size(var_2)])\n",
    "    minuend_1 = tf.reshape(minuend_1, [tf.size(var_2), tf.size(var_2)])\n",
    "    minuend_2 = tf.transpose(minuend_1)\n",
    "    Bmat = bmat-minuend_1-minuend_2+tf.reduce_mean(bmatavg*normedweight)\n",
    "\n",
    "    ABavg = tf.reduce_mean(Amat*Bmat*normedweight,axis=1)\n",
    "    AAavg = tf.reduce_mean(Amat*Amat*normedweight,axis=1)\n",
    "    BBavg = tf.reduce_mean(Bmat*Bmat*normedweight,axis=1)\n",
    "   \n",
    "    if power==1:\n",
    "        dCorr = tf.reduce_mean(ABavg*normedweight)/tf.math.sqrt(tf.reduce_mean(AAavg*normedweight)*tf.reduce_mean(BBavg*normedweight))\n",
    "    elif power==2:\n",
    "        dCorr = (tf.reduce_mean(ABavg*normedweight))**2/(tf.reduce_mean(AAavg*normedweight)*tf.reduce_mean(BBavg*normedweight))\n",
    "    else:\n",
    "        dCorr = (tf.reduce_mean(ABavg*normedweight)/tf.math.sqrt(tf.reduce_mean(AAavg*normedweight)*tf.reduce_mean(BBavg*normedweight)))**power\n",
    "  \n",
    "    return dCorr\n"
   ]
  },
  {
   "cell_type": "code",
   "execution_count": null,
   "metadata": {},
   "outputs": [],
   "source": [
    "from Disco_tf import *"
   ]
  },
  {
   "cell_type": "code",
   "execution_count": null,
   "metadata": {},
   "outputs": [],
   "source": []
  }
 ],
 "metadata": {
  "kernelspec": {
   "display_name": "Python 3",
   "language": "python",
   "name": "python3"
  },
  "language_info": {
   "codemirror_mode": {
    "name": "ipython",
    "version": 3
   },
   "file_extension": ".py",
   "mimetype": "text/x-python",
   "name": "python",
   "nbconvert_exporter": "python",
   "pygments_lexer": "ipython3",
   "version": "3.8.5"
  }
 },
 "nbformat": 4,
 "nbformat_minor": 4
}
